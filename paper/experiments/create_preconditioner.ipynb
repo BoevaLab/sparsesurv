{
 "cells": [
  {
   "cell_type": "code",
   "execution_count": 1,
   "id": "70ce0234",
   "metadata": {},
   "outputs": [],
   "source": [
    "import json\n",
    "\n",
    "import numpy as np\n",
    "import pandas as pd\n",
    "from sklearn.pipeline import make_pipeline\n",
    "from sklearn.preprocessing import StandardScaler\n",
    "\n",
    "from survhive.cv_models import CoxPHElasticNetCV, CoxPHPrecondCV\n",
    "from survhive.utils import transform_survival, transform_preconditioning\n",
    "from sklearn.decomposition import PCA\n",
    "from sksurv.linear_model import CoxPHSurvivalAnalysis\n",
    "from sksurv.util import Surv"
   ]
  },
  {
   "cell_type": "code",
   "execution_count": 2,
   "id": "9d3e8132",
   "metadata": {},
   "outputs": [],
   "source": [
    "with open(f\"../config.json\") as f:\n",
    "    config = json.load(f)"
   ]
  },
  {
   "cell_type": "code",
   "execution_count": 3,
   "id": "c5947c9a",
   "metadata": {},
   "outputs": [],
   "source": [
    "pipe_efron = make_pipeline(\n",
    "    StandardScaler(),\n",
    "    PCA(n_components=16),\n",
    "    CoxPHSurvivalAnalysis(ties=\"efron\")\n",
    ")\n",
    "\n",
    "pipe_breslow = make_pipeline(\n",
    "    StandardScaler(),\n",
    "    PCA(n_components=16),\n",
    "    CoxPHSurvivalAnalysis(ties=\"breslow\")\n",
    ")"
   ]
  },
  {
   "cell_type": "code",
   "execution_count": 4,
   "id": "d0c25a25",
   "metadata": {},
   "outputs": [],
   "source": [
    "precond_efron = {}\n",
    "precond_breslow = {}\n"
   ]
  },
  {
   "cell_type": "code",
   "execution_count": 5,
   "id": "d832ce75",
   "metadata": {},
   "outputs": [
    {
     "name": "stdout",
     "output_type": "stream",
     "text": [
      "Starting: BLCA\n",
      "Starting split: 1 / 25\n",
      "Starting split: 2 / 25\n",
      "Starting split: 3 / 25\n",
      "Starting split: 4 / 25\n",
      "Starting split: 5 / 25\n",
      "Starting split: 6 / 25\n",
      "Starting split: 7 / 25\n",
      "Starting split: 8 / 25\n",
      "Starting split: 9 / 25\n",
      "Starting split: 10 / 25\n",
      "Starting split: 11 / 25\n",
      "Starting split: 12 / 25\n",
      "Starting split: 13 / 25\n",
      "Starting split: 14 / 25\n",
      "Starting split: 15 / 25\n",
      "Starting split: 16 / 25\n",
      "Starting split: 17 / 25\n",
      "Starting split: 18 / 25\n",
      "Starting split: 19 / 25\n",
      "Starting split: 20 / 25\n",
      "Starting split: 21 / 25\n",
      "Starting split: 22 / 25\n",
      "Starting split: 23 / 25\n",
      "Starting split: 24 / 25\n",
      "Starting split: 25 / 25\n",
      "Starting: BRCA\n"
     ]
    },
    {
     "name": "stderr",
     "output_type": "stream",
     "text": [
      "\n",
      "KeyboardInterrupt\n",
      "\n"
     ]
    }
   ],
   "source": [
    "for cancer in config[\"datasets\"]:\n",
    "    print(f\"Starting: {cancer}\")\n",
    "    train_splits = pd.read_csv(f\"../data/splits/TCGA/{cancer}_train_splits.csv\")\n",
    "    test_splits = pd.read_csv(f\"../data/splits/TCGA/{cancer}_test_splits.csv\")\n",
    "    data = pd.read_csv(f\"../data/processed/TCGA/{cancer}_data_preprocessed.csv\").iloc[:, 1:]\n",
    "    X_ = data.iloc[:, 3:]\n",
    "    y_ = Surv().from_arrays(time=data[\"OS_days\"].values, event=data[\"OS\"].values.astype(bool))\n",
    "    for split in range(25):\n",
    "        print(f\"Starting split: {split+1} / 25\")\n",
    "        train_ix = train_splits.iloc[split, :].dropna().to_numpy().astype(int)\n",
    "        X_train = X_.iloc[train_ix, :].copy().reset_index(drop=True)\n",
    "        y_train = y_[train_ix].copy()\n",
    "        if split == 0:\n",
    "            precond_efron[cancer] = {}\n",
    "            precond_breslow[cancer] = {}\n",
    "\n",
    "        pipe_efron.fit(X_train, y_train)\n",
    "        precond_efron[cancer][split] = pipe_efron.predict(X_train)\n",
    "        \n",
    "        pipe_breslow.fit(X_train, y_train)\n",
    "        precond_breslow[cancer][split] = pipe_breslow.predict(X_train)\n",
    "            \n",
    "    pd.concat([pd.DataFrame(precond_efron[cancer][i]) for i in range(25)], axis=1).to_csv(\n",
    "        f\"../results/teacher/efron_{cancer}.csv\", index=False\n",
    "    )\n",
    "    \n",
    "    pd.concat([pd.DataFrame(precond_breslow[cancer][i]) for i in range(25)], axis=1).to_csv(\n",
    "        f\"../results/teacher/breslow_{cancer}.csv\", index=False\n",
    "    )"
   ]
  },
  {
   "cell_type": "code",
   "execution_count": null,
   "id": "e06aaf69",
   "metadata": {},
   "outputs": [],
   "source": []
  }
 ],
 "metadata": {
  "kernelspec": {
   "display_name": "Python 3 (ipykernel)",
   "language": "python",
   "name": "python3"
  },
  "language_info": {
   "codemirror_mode": {
    "name": "ipython",
    "version": 3
   },
   "file_extension": ".py",
   "mimetype": "text/x-python",
   "name": "python",
   "nbconvert_exporter": "python",
   "pygments_lexer": "ipython3",
   "version": "3.10.0"
  }
 },
 "nbformat": 4,
 "nbformat_minor": 5
}
