{
 "cells": [
  {
   "cell_type": "code",
   "execution_count": null,
   "id": "069941be",
   "metadata": {},
   "outputs": [],
   "source": [
    "import json\n",
    "\n",
    "import numpy as np\n",
    "import pandas as pd\n",
    "from sklearn.pipeline import make_pipeline\n",
    "from sklearn.preprocessing import StandardScaler\n",
    "\n",
    "from survhive._base import PCSurv\n",
    "from survhive.cv import PCPHElasticNetCV, PCAFTElasticNetCV\n",
    "from survhive.utils import transform_survival\n",
    "from survhive.aft import AFT\n",
    "from survhive.eh import EH"
   ]
  },
  {
   "cell_type": "code",
   "execution_count": null,
   "id": "f58f3cf3",
   "metadata": {},
   "outputs": [],
   "source": []
  },
  {
   "cell_type": "code",
   "execution_count": null,
   "id": "04fc657a",
   "metadata": {},
   "outputs": [],
   "source": [
    "with open(f\"../config.json\") as f:\n",
    "    config = json.load(f)"
   ]
  },
  {
   "cell_type": "code",
   "execution_count": 3,
   "id": "343b2daf",
   "metadata": {},
   "outputs": [],
   "source": [
    "results_efron_lasso = {}\n",
    "failures_efron_lasso = {}\n",
    "sparsity_efron_lasso = {}\n",
    "\n",
    "results_efron_elastic_net = {}\n",
    "failures_efron_elastic_net = {}\n",
    "sparsity_efron_elastic_net = {}\n",
    "\n",
    "results_efron_precond = {}\n",
    "failures_efron_precond = {}\n",
    "sparsity_efron_precond = {}\n",
    "tau_precond = {}\n",
    "\n",
    "import json\n",
    "\n",
    "import numpy as np\n",
    "import pandas as pd\n",
    "from sklearn.decomposition import PCA\n",
    "from sklearn.feature_selection import VarianceThreshold\n",
    "from sklearn.pipeline import make_pipeline\n",
    "from sklearn.preprocessing import StandardScaler\n",
    "from sksurv.linear_model import CoxPHSurvivalAnalysis\n",
    "from sksurv.nonparametric import kaplan_meier_estimator\n",
    "\n",
    "from survhive._base import PCSurv\n",
    "from survhive.aft import AFT\n",
    "from survhive.cv import PCAFTElasticNetCV, PCEHMultiTaskLassoCV, PCPHElasticNetCV\n",
    "from survhive.eh import EH\n",
    "from survhive.utils import transform_survival"
   ]
  },
  {
   "cell_type": "code",
   "execution_count": 145,
   "id": "77df313d",
   "metadata": {},
   "outputs": [],
   "source": [
    "pipe = PCSurv(\n",
    "    pc_pipe=make_pipeline(\n",
    "        VarianceThreshold(),\n",
    "        StandardScaler(),\n",
    "        PCA(n_components=config[\"pc_n_components\"]),\n",
    "        CoxPHSurvivalAnalysis(ties=\"efron\"),\n",
    "        #AFT()\n",
    "        \n",
    "    ),\n",
    "    model_pipe=make_pipeline(\n",
    "        VarianceThreshold(),\n",
    "        StandardScaler(),\n",
    "        PCPHElasticNetCV(\n",
    "            #tie_correction=\"efron\",\n",
    "            #l1_ratio=config[\"l1_ratio\"],\n",
    "            #eps=config[\"eps\"],\n",
    "            eps=0.01,\n",
    "            n_alphas=config[\"n_alphas\"],\n",
    "            cv=5,\n",
    "            stratify_cv=True,\n",
    "            seed=config[\"seed\"],\n",
    "            shuffle_cv=config[\"shuffle_cv\"],\n",
    "            cv_score_method=\"linear_predictor\",\n",
    "            n_jobs=-1,\n",
    "            max_coef=np.inf,\n",
    "            alpha_type=\"pcvl\"\n",
    "        ),\n",
    "    ),\n",
    ")"
   ]
  },
  {
   "cell_type": "code",
   "execution_count": null,
   "id": "03fc2380",
   "metadata": {},
   "outputs": [],
   "source": []
  },
  {
   "cell_type": "code",
   "execution_count": 146,
   "id": "e5548f15",
   "metadata": {},
   "outputs": [],
   "source": [
    "from survhive.loss import eh_negative_likelihood"
   ]
  },
  {
   "cell_type": "code",
   "execution_count": null,
   "id": "73683225",
   "metadata": {},
   "outputs": [],
   "source": []
  },
  {
   "cell_type": "code",
   "execution_count": null,
   "id": "b91240e1",
   "metadata": {},
   "outputs": [],
   "source": []
  },
  {
   "cell_type": "code",
   "execution_count": null,
   "id": "5cae02e5",
   "metadata": {},
   "outputs": [],
   "source": []
  },
  {
   "cell_type": "code",
   "execution_count": 147,
   "id": "b1220e66",
   "metadata": {},
   "outputs": [],
   "source": [
    "\n",
    "\n",
    "\n",
    "\n",
    "#2.1571926193706394 + "
   ]
  },
  {
   "cell_type": "code",
   "execution_count": 148,
   "id": "1c750ce6",
   "metadata": {},
   "outputs": [],
   "source": [
    "pipe_new = make_pipeline(StandardScaler(), PCA(n_components=16), \n",
    "                     \n",
    "                    #AFT()\n",
    "                     #CoxPHSurvivalAnalysis(ties=\"efron\")\n",
    "                         EH()\n",
    "                    )"
   ]
  },
  {
   "cell_type": "code",
   "execution_count": null,
   "id": "ca0cf096",
   "metadata": {},
   "outputs": [],
   "source": []
  },
  {
   "cell_type": "code",
   "execution_count": 149,
   "id": "d1229f0c",
   "metadata": {},
   "outputs": [
    {
     "data": {
      "text/plain": [
       "['BLCA', 'BRCA', 'HNSC', 'KIRC', 'LGG', 'LIHC', 'LUAD', 'LUSC', 'OV', 'STAD']"
      ]
     },
     "execution_count": 149,
     "metadata": {},
     "output_type": "execute_result"
    }
   ],
   "source": [
    "config[\"datasets\"]"
   ]
  },
  {
   "cell_type": "code",
   "execution_count": null,
   "id": "2221e496",
   "metadata": {},
   "outputs": [],
   "source": []
  },
  {
   "cell_type": "code",
   "execution_count": 150,
   "id": "615d5848",
   "metadata": {
    "scrolled": true
   },
   "outputs": [
    {
     "name": "stdout",
     "output_type": "stream",
     "text": [
      "Starting: BLCA\n",
      "Starting split: 1 / 25\n"
     ]
    },
    {
     "name": "stderr",
     "output_type": "stream",
     "text": [
      "/Users/slightlier/miniforge3/envs/sparsesurv_dev/lib/python3.10/site-packages/sklearn/base.py:432: UserWarning: X has feature names, but VarianceThreshold was fitted without feature names\n",
      "  warnings.warn(\n"
     ]
    }
   ],
   "source": [
    "np.random.seed(42)\n",
    "#for cancer in config[\"datasets\"]:\n",
    "for cancer in [\"BLCA\"]:\n",
    "    print(f\"Starting: {cancer}\")\n",
    "    train_splits = pd.read_csv(f\"~/Downloads/20230518/survhive/paper/data/splits/TCGA/{cancer}_train_splits.csv\")\n",
    "    test_splits = pd.read_csv(f\"~/Downloads/20230518/survhive/paper/data/splits/TCGA/{cancer}_test_splits.csv\")\n",
    "    data = pd.read_csv(f\"~/Downloads/20230518/survhive/paper/data/processed/TCGA/{cancer}_data_preprocessed.csv\").iloc[:, 1:]\n",
    "    X_ = data.iloc[:, 3:]\n",
    "    y_ = transform_survival(time=data[\"OS_days\"].values, event=data[\"OS\"].values)\n",
    "    for split in range(25):\n",
    "        print(f\"Starting split: {split+1} / 25\")\n",
    "        train_ix = train_splits.iloc[split, :].dropna().to_numpy().astype(int)\n",
    "        test_ix = test_splits.iloc[split, :].dropna().to_numpy().astype(int)\n",
    "        X_train = X_.iloc[train_ix, :].copy().reset_index(drop=True)\n",
    "        y_train = y_[train_ix].copy()\n",
    "        y_test = y_[test_ix].copy()\n",
    "        X_test = X_.iloc[test_ix, :].copy().reset_index(drop=True)\n",
    "        if split == 0:\n",
    "            results_efron_lasso[cancer] = {}\n",
    "            sparsity_efron_lasso[cancer] = {}\n",
    "            failures_efron_lasso[cancer] = 0\n",
    "        try:\n",
    "            pipe.fit(X_train.to_numpy(), y_train)\n",
    "            sparsity_efron_lasso[cancer][split] = np.sum(pipe.model_pipe[2].coef_ != 0)\n",
    "            results_efron_lasso[cancer][split] = pipe.predict(X_test)\n",
    "        except Exception as e:\n",
    "            raise e\n",
    "            failures_efron_lasso[cancer] += 1\n",
    "            results_efron_lasso[cancer][split] = np.zeros(test_ix.shape[0])\n",
    "            sparsity_efron_lasso[cancer][split] = 0\n",
    "        break\n",
    "    break\n",
    "    pd.concat([pd.DataFrame(results_efron_lasso[cancer][i]) for i in range(25)], axis=1).to_csv(\n",
    "        f\"../results/efron_lasso_{cancer}.csv\", index=False\n",
    "    )\n",
    "\n",
    "#pd.DataFrame(sparsity_efron_lasso).to_csv(\n",
    "#    f\"../results/efron_lasso_sparsity.csv\", index=False\n",
    "#)\n",
    "#pd.DataFrame(failures_efron_lasso).to_csv(\n",
    "#    f\"../results/efron_lasso_failures.csv\", index=False\n",
    "#)\n"
   ]
  },
  {
   "cell_type": "code",
   "execution_count": 151,
   "id": "d5c29a36",
   "metadata": {},
   "outputs": [
    {
     "data": {
      "text/plain": [
       "142"
      ]
     },
     "execution_count": 151,
     "metadata": {},
     "output_type": "execute_result"
    }
   ],
   "source": [
    "np.sum(y_train[\"event\"])"
   ]
  },
  {
   "cell_type": "code",
   "execution_count": 152,
   "id": "ef3ac8ba",
   "metadata": {},
   "outputs": [],
   "source": [
    "# (1, 20237, 100)\n"
   ]
  },
  {
   "cell_type": "code",
   "execution_count": 153,
   "id": "0a35f3ac",
   "metadata": {},
   "outputs": [
    {
     "data": {
      "text/plain": [
       "39"
      ]
     },
     "execution_count": 153,
     "metadata": {},
     "output_type": "execute_result"
    }
   ],
   "source": [
    "np.sum(pipe.model_pipe[2].coef_ != 0.0)"
   ]
  },
  {
   "cell_type": "code",
   "execution_count": 154,
   "id": "95c15aba",
   "metadata": {},
   "outputs": [
    {
     "data": {
      "text/plain": [
       "3.252880669939253"
      ]
     },
     "execution_count": 154,
     "metadata": {},
     "output_type": "execute_result"
    }
   ],
   "source": [
    "eh_negative_likelihood(\n",
    "    linear_predictor=np.zeros((y_train[\"time\"].shape[0], 2)),\n",
    "    time=y_train[\"time\"],\n",
    "    event=y_train[\"event\"].astype(int)\n",
    ")"
   ]
  },
  {
   "cell_type": "code",
   "execution_count": 155,
   "id": "ae3d5312",
   "metadata": {},
   "outputs": [
    {
     "data": {
      "text/plain": [
       "4.479107284191074"
      ]
     },
     "execution_count": 155,
     "metadata": {},
     "output_type": "execute_result"
    }
   ],
   "source": [
    "eh_negative_likelihood(\n",
    "    linear_predictor=np.random.normal(-1, 3, (y_train[\"time\"].shape[0], 2)),\n",
    "    time=y_train[\"time\"],\n",
    "    event=y_train[\"event\"].astype(int)\n",
    ")\n"
   ]
  },
  {
   "cell_type": "code",
   "execution_count": 156,
   "id": "502dda83",
   "metadata": {},
   "outputs": [
    {
     "data": {
      "text/plain": [
       "(324,)"
      ]
     },
     "execution_count": 156,
     "metadata": {},
     "output_type": "execute_result"
    }
   ],
   "source": [
    "y_train.shape"
   ]
  },
  {
   "cell_type": "code",
   "execution_count": 157,
   "id": "af141197",
   "metadata": {},
   "outputs": [],
   "source": [
    "from sksurv.metrics import concordance_index_censored"
   ]
  },
  {
   "cell_type": "code",
   "execution_count": 158,
   "id": "2e9dd7c2",
   "metadata": {},
   "outputs": [],
   "source": [
    "# concordance_index_censored(event_indicator=y_[test_ix].copy()[\"event\"], event_time=y_[test_ix].copy()[\"time\"], estimate=results_efron_lasso[\"BLCA\"][0])[0]"
   ]
  },
  {
   "cell_type": "code",
   "execution_count": 159,
   "id": "ba256086",
   "metadata": {},
   "outputs": [
    {
     "data": {
      "text/plain": [
       "array([-0.2776316 ,  0.14004612, -0.20370126,  0.39173723, -0.00970651,\n",
       "        0.05771012,  0.05322547,  0.08202448,  0.18323983,  0.12665015,\n",
       "       -0.11329681,  0.26955933,  0.18883693,  0.10770389, -0.3195352 ,\n",
       "       -0.38250669, -0.20394125, -0.27703501, -0.02920769,  0.37790002,\n",
       "       -0.91279247, -0.56168988,  0.05034542,  0.10015822, -0.12558386,\n",
       "       -0.67776806, -0.4892578 , -0.23505737, -0.87715013,  0.15347796,\n",
       "        0.08536307, -0.17711362, -0.10368805, -0.69452827, -0.048186  ,\n",
       "        0.45322366,  0.53541929, -0.65959891,  0.30967634, -0.49299708,\n",
       "       -0.52438952,  0.22887245,  0.23104268, -0.00908392, -0.05147059,\n",
       "        0.18515864,  0.26547192,  0.2068358 , -0.34002777, -0.17503982,\n",
       "       -0.18761047, -0.37667211,  0.2679389 ,  0.62525432, -0.4846417 ,\n",
       "        0.56822971, -0.17281455, -0.13446605, -0.29406452, -0.44149803,\n",
       "       -0.1932071 ,  0.07720283,  0.0746714 ,  0.00731313,  0.01936764,\n",
       "        0.17431902, -0.1150658 ,  0.17154365,  0.32317844,  0.42457035,\n",
       "        0.82459919, -0.12256464,  0.1043627 , -0.81716845, -0.14696484,\n",
       "       -0.45558272,  0.74966613,  0.41306211,  0.72031632, -0.23285281,\n",
       "        0.30487411, -0.32169203])"
      ]
     },
     "execution_count": 159,
     "metadata": {},
     "output_type": "execute_result"
    }
   ],
   "source": [
    "pipe.predict(X_test.to_numpy())"
   ]
  },
  {
   "cell_type": "code",
   "execution_count": 160,
   "id": "d998e183",
   "metadata": {},
   "outputs": [
    {
     "name": "stderr",
     "output_type": "stream",
     "text": [
      "/Users/slightlier/Downloads/sparsesurv_final/survhive/survhive/_base.py:16: UserWarning: Requested times are non-unique. Returning predictions for unique times only.\n",
      "  warnings.warn(\n"
     ]
    }
   ],
   "source": [
    "surv = pipe.predict_survival_function(X_test.to_numpy(), y_test[\"time\"])\n",
    "durations_test = y_test[\"time\"]\n",
    "events_test = y_test[\"event\"].astype(int)"
   ]
  },
  {
   "cell_type": "code",
   "execution_count": 161,
   "id": "04037863",
   "metadata": {},
   "outputs": [
    {
     "data": {
      "text/plain": [
       "0.61800346220427"
      ]
     },
     "execution_count": 161,
     "metadata": {},
     "output_type": "execute_result"
    }
   ],
   "source": [
    "from pycox.evaluation import EvalSurv\n",
    "\n",
    "ev = EvalSurv(surv.T, durations_test, events_test, censor_surv='km')\n",
    "ev.concordance_td()\n"
   ]
  },
  {
   "cell_type": "code",
   "execution_count": 162,
   "id": "c2580404",
   "metadata": {},
   "outputs": [
    {
     "data": {
      "text/plain": [
       "0.20214260133509115"
      ]
     },
     "execution_count": 162,
     "metadata": {},
     "output_type": "execute_result"
    }
   ],
   "source": [
    "time_grid = np.linspace(durations_test.min(), durations_test.max(), 100)\n",
    "#_ = ev.brier_score(time_grid).plot()\n",
    "ev.integrated_brier_score(time_grid)\n"
   ]
  },
  {
   "cell_type": "code",
   "execution_count": null,
   "id": "10374646",
   "metadata": {},
   "outputs": [],
   "source": []
  },
  {
   "cell_type": "code",
   "execution_count": null,
   "id": "4b4ee04f",
   "metadata": {},
   "outputs": [],
   "source": [
    "0.6358915175995383\n",
    "0.21127830030839226\n",
    "219\n",
    "\n",
    "0.61800346220427\n",
    "0.20214260133509115\n",
    "39"
   ]
  },
  {
   "cell_type": "code",
   "execution_count": null,
   "id": "6ea43949",
   "metadata": {},
   "outputs": [],
   "source": [
    "# trust-ncg\n",
    "# EH\n",
    "# \n",
    "# \n",
    "# AFT\n",
    "# 0.6568112133158125\n",
    "# 0.19365856682123186"
   ]
  },
  {
   "cell_type": "code",
   "execution_count": null,
   "id": "57a39c25",
   "metadata": {},
   "outputs": [],
   "source": []
  },
  {
   "cell_type": "code",
   "execution_count": null,
   "id": "f7c63937",
   "metadata": {},
   "outputs": [],
   "source": []
  },
  {
   "cell_type": "code",
   "execution_count": null,
   "id": "1b0731e7",
   "metadata": {},
   "outputs": [],
   "source": []
  }
 ],
 "metadata": {
  "kernelspec": {
   "display_name": "Python 3 (ipykernel)",
   "language": "python",
   "name": "python3"
  },
  "language_info": {
   "codemirror_mode": {
    "name": "ipython",
    "version": 3
   },
   "file_extension": ".py",
   "mimetype": "text/x-python",
   "name": "python",
   "nbconvert_exporter": "python",
   "pygments_lexer": "ipython3",
   "version": "3.10.0"
  }
 },
 "nbformat": 4,
 "nbformat_minor": 5
}
